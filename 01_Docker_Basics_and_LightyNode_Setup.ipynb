{
 "cells": [
  {
   "cell_type": "markdown",
   "source": [
    "# Tutorial 1: Docker Basics and LightyNode Setup\n",
    "\n",
    "## Prerequisites\n",
    "- Docker installed and running\n",
    "- Python 3.8 or higher\n",
    "- Basic understanding of command line operations"
   ],
   "metadata": {}
  },
  {
   "cell_type": "markdown",
   "metadata": {},
   "source": "## Step 1: Virtual Environment Setup\n\n**IMPORTANT: Set up a Python virtual environment first!**\n\nBefore running the notebooks, create and activate a virtual environment with required packages. All dependencies are listed in the `requirements.txt` file for easy installation."
  },
  {
   "cell_type": "code",
   "source": "# Verify installation and import common utilities\ntry:\n    import docker\n    import requests\n    import urllib3\n    from common_utils import StatusIndicators, print_status, DockerHelper\n    print_status(\"All required packages installed\", StatusIndicators.SUCCESS)\nexcept ImportError as e:\n    print_status(f\"Missing package: {e}\", StatusIndicators.ERROR)\n    print(\"Install with: pip install -r requirements.txt\")",
   "metadata": {
    "ExecuteTime": {
     "end_time": "2025-10-04T23:50:02.226794Z",
     "start_time": "2025-10-04T23:50:01.971547Z"
    }
   },
   "outputs": [
    {
     "name": "stdout",
     "output_type": "stream",
     "text": [
      "[SUCCESS] All required packages installed\n"
     ]
    }
   ],
   "execution_count": 1
  },
  {
   "metadata": {},
   "cell_type": "markdown",
   "source": [
    "## Step 2: Student Configuration\n",
    "\n",
    "**IMPORTANT: Change the STUDENT_ID to your assigned number!**\n",
    "\n",
    "Each student must use a unique ID to create isolated environments."
   ]
  },
  {
   "metadata": {},
   "cell_type": "code",
   "source": [
    "# === STUDENT CONFIGURATION ===\n",
    "# CHANGE THIS TO YOUR ASSIGNED STUDENT ID!\n",
    "STUDENT_ID = \"1\"  # Example: \"1\", \"2\", \"3\", etc.\n",
    "\n",
    "# Generated configuration (DO NOT CHANGE)\n",
    "NETWORK_NAME = f\"student{STUDENT_ID}-network\"\n",
    "print(f\"Student {STUDENT_ID} environment configured\")\n",
    "print(f\"Network: {NETWORK_NAME}\")"
   ],
   "outputs": [],
   "execution_count": null
  },
  {
   "metadata": {},
   "cell_type": "markdown",
   "source": [
    "## Step 3: Import Required Libraries\n",
    "\n",
    "We'll use Docker Python SDK to manage containers programmatically."
   ]
  },
  {
   "metadata": {},
   "cell_type": "code",
   "source": [
    "import docker\n",
    "import time\n",
    "from docker.errors import NotFound, APIError\n",
    "from common_utils import StatusIndicators, print_status, DockerHelper\n",
    "\n",
    "# Initialize Docker helper\n",
    "docker_helper = DockerHelper()"
   ],
   "outputs": [],
   "execution_count": null
  },
  {
   "metadata": {},
   "cell_type": "markdown",
   "source": [
    "## Step 4: Helper Functions\n",
    "\n",
    "These functions help manage student-specific resources."
   ]
  },
  {
   "metadata": {},
   "cell_type": "code",
   "source": [
    "# Helper functions\n",
    "\n",
    "def get_container_name(base_name):\n",
    "    \"\"\"Generate student-specific container name\"\"\"\n",
    "    return f\"student{STUDENT_ID}-{base_name}\"\n",
    "\n",
    "def create_network():\n",
    "    \"\"\"Create isolated Docker network for this student\"\"\"\n",
    "    try:\n",
    "        network = docker_helper.client.networks.get(NETWORK_NAME)\n",
    "        print_status(f\"Network {NETWORK_NAME} already exists\", StatusIndicators.INFO)\n",
    "        return network\n",
    "    except docker.errors.NotFound:\n",
    "        network = docker_helper.client.networks.create(NETWORK_NAME, driver=\"bridge\")\n",
    "        print_status(f\"Created network: {NETWORK_NAME}\", StatusIndicators.SUCCESS)\n",
    "        return network\n",
    "\n",
    "def start_lightynode(node_name, device_type, image=None):\n",
    "    \"\"\"Start a LightyNode container\"\"\"\n",
    "    container_name = get_container_name(node_name)\n",
    "\n",
    "    # Select appropriate image based on device type\n",
    "    if image is None:\n",
    "        if 'roadm' in device_type.lower():\n",
    "            image = \"aparaajitha/lightynode-roadma-221\"\n",
    "        elif 'tpdr' in device_type.lower() or 'xpdr' in device_type.lower():\n",
    "            image = \"aparaajitha/lightynode-xpdra2-71\"\n",
    "        else:\n",
    "            raise ValueError(f\"Unknown device type: {device_type}\")\n",
    "\n",
    "    try:\n",
    "        container = docker_helper.client.containers.get(container_name)\n",
    "        if container.status == \"running\":\n",
    "            print_status(f\"Container {container_name} already running\", StatusIndicators.INFO)\n",
    "            return container\n",
    "        else:\n",
    "            container.start()\n",
    "            print_status(f\"Started existing container {container_name}\", StatusIndicators.SUCCESS)\n",
    "            return container\n",
    "    except docker.errors.NotFound:\n",
    "        container = docker_helper.client.containers.run(\n",
    "            image=image,\n",
    "            name=container_name,\n",
    "            network=NETWORK_NAME,\n",
    "            detach=True,\n",
    "            remove=False\n",
    "        )\n",
    "        print_status(f\"Created container: {container_name}\", StatusIndicators.SUCCESS)\n",
    "        return container\n",
    "\n",
    "def wait_for_lightynode(container, timeout=60):\n",
    "    \"\"\"Wait for LightyNode to be ready\"\"\"\n",
    "    ready_messages = [b\"Data tree change listeners registered\"]\n",
    "    return docker_helper.wait_for_container(container.name, ready_messages, timeout)\n",
    "\n",
    "def show_container_status():\n",
    "    \"\"\"Display status of student's containers\"\"\"\n",
    "    all_containers = docker_helper.client.containers.list(all=True)\n",
    "    student_containers = [c for c in all_containers if c.name.startswith(f\"student{STUDENT_ID}-\")]\n",
    "\n",
    "    if not student_containers:\n",
    "        print_status(\"No containers found for this student\", StatusIndicators.INFO)\n",
    "        return\n",
    "\n",
    "    print(f\"Student {STUDENT_ID} containers:\")\n",
    "    for container in student_containers:\n",
    "        container.reload()\n",
    "        image_name = container.image.tags[0] if container.image.tags else 'None'\n",
    "        print(f\"  {container.name}: {container.status} (image: {image_name})\")\n",
    "\n",
    "print_status(\"Helper functions defined\", StatusIndicators.SUCCESS)"
   ],
   "outputs": [],
   "execution_count": null
  },
  {
   "metadata": {},
   "cell_type": "markdown",
   "source": [
    "## Step 5: Create Isolated Network\n",
    "\n",
    "Each student gets their own Docker network to prevent interference with other students."
   ]
  },
  {
   "metadata": {},
   "cell_type": "code",
   "source": [
    "# Create student's isolated network\n",
    "network = create_network()\n",
    "\n",
    "# Display network information (simplified)\n",
    "try:\n",
    "    network_info = docker_helper.client.api.inspect_network(network.id)\n",
    "    ipam_config = network_info.get('IPAM', {}).get('Config', [])\n",
    "    if ipam_config and len(ipam_config) > 0:\n",
    "        config = ipam_config[0]\n",
    "        subnet = config.get('Subnet', 'Auto-assigned')\n",
    "        gateway = config.get('Gateway', 'Auto-assigned')\n",
    "    else:\n",
    "        subnet = 'Auto-assigned'\n",
    "        gateway = 'Auto-assigned'\n",
    "\n",
    "    print_status(f\"Network Details\", StatusIndicators.INFO,\n",
    "                f\"Name: {network_info['Name']}, Driver: {network_info['Driver']}\")\n",
    "    print_status(f\"Subnet: {subnet}, Gateway: {gateway}\", StatusIndicators.INFO)\n",
    "\n",
    "except Exception as e:\n",
    "    print_status(\"Error getting network details\", StatusIndicators.WARNING,\n",
    "                \"Network created successfully but could not retrieve details\")"
   ],
   "outputs": [],
   "execution_count": null
  },
  {
   "metadata": {},
   "cell_type": "markdown",
   "source": [
    "## Step 6: Pull LightyNode Images\n",
    "\n",
    "Let's pull the required Docker images from Docker Hub."
   ]
  },
  {
   "metadata": {},
   "cell_type": "code",
   "source": [
    "# Pull required Docker images\n",
    "images_to_pull = [\n",
    "    \"aparaajitha/lightynode-roadma-221\",\n",
    "    \"aparaajitha/lightynode-xpdra2-71\"\n",
    "]\n",
    "\n",
    "print(\"Pulling LightyNode Docker images...\")\n",
    "\n",
    "for image in images_to_pull:\n",
    "    try:\n",
    "        docker_helper.client.images.pull(image)\n",
    "        print_status(f\"Pulled {image}\", StatusIndicators.SUCCESS)\n",
    "    except Exception as e:\n",
    "        print_status(f\"Failed to pull {image}\", StatusIndicators.ERROR)\n",
    "        print(f\"Error: {e}\")\n",
    "\n",
    "# List available images\n",
    "lightynode_images = [img for img in docker_helper.client.images.list()\n",
    "                    if any(tag.startswith('aparaajitha/lightynode')\n",
    "                          for tag in img.tags) if img.tags]\n",
    "\n",
    "print(f\"Available LightyNode images: {len(lightynode_images)}\")\n",
    "for img in lightynode_images:\n",
    "    for tag in img.tags:\n",
    "        if tag.startswith('aparaajitha/lightynode'):\n",
    "            print(f\"  {tag}\")"
   ],
   "outputs": [],
   "execution_count": null
  },
  {
   "metadata": {},
   "cell_type": "markdown",
   "source": "## Step 7: Start ROADM Device\n\nWe'll start with a ROADM (Reconfigurable Optical Add-Drop Multiplexer) device."
  },
  {
   "metadata": {},
   "cell_type": "code",
   "source": [
    "# Start ROADM device\n",
    "print(\"Starting ROADM device...\")\n",
    "ROADM_NAME = \"roadm-a\"\n",
    "roadm_container = start_lightynode(ROADM_NAME, \"roadm\")\n",
    "\n",
    "# Wait for container to be ready\n",
    "if wait_for_lightynode(roadm_container):\n",
    "    print_status(f\"ROADM container ready\", StatusIndicators.SUCCESS)\n",
    "else:\n",
    "    print_status(f\"ROADM container failed to start\", StatusIndicators.ERROR)"
   ],
   "outputs": [],
   "execution_count": null
  },
  {
   "metadata": {},
   "cell_type": "markdown",
   "source": "## Step 8: Start Transponder Device\n\nLet's also start a transponder device for complete network simulation."
  },
  {
   "metadata": {},
   "cell_type": "code",
   "source": [
    "# Start transponder device\n",
    "print(\"Starting transponder device...\")\n",
    "TPDR_NAME = \"tpdr-a\"\n",
    "tpdr_container = start_lightynode(TPDR_NAME, \"xpdr\")\n",
    "\n",
    "# Wait for container to be ready\n",
    "if wait_for_lightynode(tpdr_container):\n",
    "    print_status(f\"Transponder container ready\", StatusIndicators.SUCCESS)\n",
    "else:\n",
    "    print_status(f\"Transponder container failed to start\", StatusIndicators.ERROR)"
   ],
   "outputs": [],
   "execution_count": null
  },
  {
   "metadata": {},
   "cell_type": "markdown",
   "source": [
    "## Step 9: Verify Container Status\n",
    "\n",
    "Let's check that our containers are running properly."
   ]
  },
  {
   "metadata": {},
   "cell_type": "code",
   "source": "show_container_status()",
   "outputs": [],
   "execution_count": null
  },
  {
   "metadata": {},
   "cell_type": "markdown",
   "source": [
    "## Step 10: Test Network Connectivity\n",
    "\n",
    "Verify that containers can communicate within the isolated network."
   ]
  },
  {
   "metadata": {},
   "cell_type": "code",
   "source": [
    "def test_network_connectivity():\n",
    "    \"\"\"Test network connectivity between containers\"\"\"\n",
    "    roadm_name = get_container_name(ROADM_NAME)\n",
    "    tpdr_name = get_container_name(TPDR_NAME)\n",
    "\n",
    "    try:\n",
    "        roadm = docker_helper.client.containers.get(roadm_name)\n",
    "        result = roadm.exec_run(f\"ping -c 2 {tpdr_name}\")\n",
    "\n",
    "        if result.exit_code == 0:\n",
    "            print_status(f\"{roadm_name} can ping {tpdr_name}\", StatusIndicators.SUCCESS)\n",
    "        else:\n",
    "            print_status(f\"{roadm_name} cannot ping {tpdr_name}\", StatusIndicators.ERROR)\n",
    "    except Exception as e:\n",
    "        print_status(\"Error testing connectivity\", StatusIndicators.ERROR)\n",
    "        print(f\"Error: {e}\")\n",
    "\n",
    "test_network_connectivity()"
   ],
   "outputs": [],
   "execution_count": null
  },
  {
   "metadata": {},
   "cell_type": "markdown",
   "source": [
    "## Step 11: View Container Logs\n",
    "\n",
    "Let's examine the logs to understand what's happening inside our containers."
   ]
  },
  {
   "metadata": {},
   "cell_type": "code",
   "source": [
    "def show_container_logs(container_name, lines=5):\n",
    "    \"\"\"Display last few lines of container logs (simplified)\"\"\"\n",
    "    try:\n",
    "        container = docker_helper.client.containers.get(container_name)\n",
    "        logs = container.logs(tail=lines).decode('utf-8')\n",
    "\n",
    "        print_status(f\"Last {lines} lines from {container_name}\", StatusIndicators.INFO)\n",
    "        for line in logs.split('\\n'):\n",
    "            if line.strip():\n",
    "                # Only show meaningful log lines, truncate very long ones\n",
    "                log_line = line.strip()\n",
    "                if len(log_line) > 1000:\n",
    "                    log_line = log_line[:1000]\n",
    "                print_status(log_line, StatusIndicators.INFO)\n",
    "\n",
    "    except Exception as e:\n",
    "        print_status(f\"Error getting logs for {container_name}\", StatusIndicators.ERROR, str(e))\n",
    "\n",
    "# Show logs for both containers (simplified)\n",
    "show_container_logs(get_container_name(ROADM_NAME), lines=3)\n",
    "show_container_logs(get_container_name(TPDR_NAME), lines=3)"
   ],
   "outputs": [],
   "execution_count": null
  },
  {
   "metadata": {},
   "cell_type": "markdown",
   "source": [
    "## Summary\n",
    "\n",
    "In this tutorial, you have:\n",
    "\n",
    "1. **Set up a virtual environment** with required Python packages\n",
    "2. **Created an isolated environment** using Docker networks\n",
    "3. **Pulled LightyNode images** from Docker Hub\n",
    "4. **Started LightyNode containers** (ROADM and Transponder)\n",
    "5. **Verified container status** and network connectivity\n",
    "6. **Tested basic connectivity** to the containers\n",
    "\n",
    "Your containers are now ready for SDN operations.\n",
    "\n",
    "## Next Steps\n",
    "\n",
    "In the next tutorial, we'll learn how to:\n",
    "- Set up TransportPCE SDN controller\n",
    "- Connect devices to the controller\n",
    "- Use RESTCONF for device management\n",
    "\n",
    "## Troubleshooting\n",
    "\n",
    "If you encounter issues:\n",
    "\n",
    "1. **Check Docker is running**: `docker ps`\n",
    "2. **Verify network exists**: `docker network ls | grep student{STUDENT_ID}`\n",
    "3. **Check container logs**: Use the `show_container_logs()` function above\n",
    "4. **Restart containers**: Stop and remove containers, then run this notebook again\n",
    "5. **Virtual environment**: Ensure you activated your virtual environment and installed packages\n",
    "   ```bash\n",
    "   source lightynode-tutorial/bin/activate\n",
    "   pip install -r requirements.txt\n",
    "   ```\n",
    "\n",
    "## Requirements\n",
    "\n",
    "All Python dependencies are specified in `requirements.txt`:\n",
    "- `docker>=6.0.0` - Container management\n",
    "- `requests>=2.31.0` - HTTP operations for RESTCONF\n",
    "- `urllib3>=2.0.0` - SSL/TLS handling\n",
    "\n",
    "## Cleanup (Optional)\n",
    "\n",
    "To clean up your environment (warning: this will stop and remove all your containers):"
   ]
  },
  {
   "metadata": {},
   "cell_type": "code",
   "source": [
    "# Cleanup function (uncomment to use)\n",
    "def cleanup_student_environment():\n",
    "    \"\"\"Stop and remove all student containers and network\"\"\"\n",
    "    all_containers = docker_helper.client.containers.list(all=True)\n",
    "    student_containers = [c for c in all_containers if c.name.startswith(f\"student{STUDENT_ID}-\")]\n",
    "\n",
    "    for container in student_containers:\n",
    "        try:\n",
    "            container.stop(timeout=10)\n",
    "            container.remove()\n",
    "            print_status(f\"Removed {container.name}\", StatusIndicators.SUCCESS)\n",
    "        except Exception as e:\n",
    "            print_status(f\"Error removing {container.name}\", StatusIndicators.ERROR)\n",
    "            print(f\"Error: {e}\")\n",
    "\n",
    "    # Remove network\n",
    "    try:\n",
    "        network = docker_helper.client.networks.get(NETWORK_NAME)\n",
    "        network.remove()\n",
    "        print_status(f\"Removed network: {NETWORK_NAME}\", StatusIndicators.SUCCESS)\n",
    "    except Exception as e:\n",
    "        print_status(f\"Error removing network\", StatusIndicators.ERROR)\n",
    "        print(f\"Error: {e}\")\n",
    "\n",
    "# To run cleanup, uncomment the line below:\n",
    "# cleanup_student_environment()"
   ],
   "outputs": [],
   "execution_count": null
  }
 ],
 "metadata": {
  "kernelspec": {
   "display_name": "Python 3",
   "language": "python",
   "name": "python3"
  },
  "language_info": {
   "codemirror_mode": {
    "name": "ipython",
    "version": 3
   },
   "file_extension": ".py",
   "name": "python",
   "nbconvert_exporter": "python",
   "pygments_lexer": "ipython3",
   "version": "3.8.0"
  }
 },
 "nbformat": 4,
 "nbformat_minor": 4
}
